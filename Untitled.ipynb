{
 "cells": [
  {
   "cell_type": "code",
   "execution_count": 5,
   "metadata": {},
   "outputs": [
    {
     "ename": "SyntaxError",
     "evalue": "invalid character in identifier (<ipython-input-5-1ad6e84bde60>, line 8)",
     "output_type": "error",
     "traceback": [
      "\u001b[0;36m  File \u001b[0;32m\"<ipython-input-5-1ad6e84bde60>\"\u001b[0;36m, line \u001b[0;32m8\u001b[0m\n\u001b[0;31m    ​\u001b[0m\n\u001b[0m    ^\u001b[0m\n\u001b[0;31mSyntaxError\u001b[0m\u001b[0;31m:\u001b[0m invalid character in identifier\n"
     ]
    }
   ],
   "source": [
    "\n",
    "\n",
    "1\n",
    "import pylab\n",
    "2\n",
    "import numpy\n",
    "3\n",
    "​\n",
    "4\n",
    "def loadData(filename):\n",
    "5\n",
    "    data = open(filename, 'r')\n",
    "6\n",
    "\n",
    "7\n",
    "    X1 = []\n",
    "8\n",
    "    X2 = []\n",
    "9\n",
    "    X3 = []\n",
    "10\n",
    "    X4 = []\n",
    "11\n",
    "    X5 = []\n",
    "12\n",
    "​\n",
    "13\n",
    "    for line in data:\n",
    "14\n",
    "        line = line.strip('\\n\\r')\n",
    "15\n",
    "        input_data = line.split(',')\n",
    "16\n",
    "​\n",
    "17\n",
    "        X1.append(input_data[1])\n",
    "18\n",
    "        X2.append(input_data[3])\n",
    "19\n",
    "        X5.append(input_data[4])\n",
    "20\n",
    "​\n",
    "21\n",
    "​\n",
    "22\n",
    "        figue = pylab.figure('X2_X4')\n",
    "23\n",
    "        ax = figue.add_subplot(111)\n",
    "24\n",
    "        # pylab.plot(X,Y,'rx')\n",
    "25\n",
    "        pylab.xlabel('X2')\n",
    "26\n",
    "        pylab.ylabel('X4')\n",
    "27\n",
    "​\n",
    "28\n",
    "        if input_data[4] == str(0):\n",
    "29\n",
    "            ax.scatter(input_data[1], input_data[3], c='r', marker='o')\n",
    "30\n",
    "        else:\n",
    "31\n",
    "            ax.scatter(input_data[1], input_data[3], c='g', marker='x')\n",
    "32\n",
    "​\n",
    "33\n",
    "​\n",
    "34\n",
    "    pylab.show()\n",
    "35\n",
    "​\n",
    "36\n",
    "loadData('1.txt')\n",
    "37\n",
    "​\n",
    "38\n",
    "​\n",
    "39\n",
    "​\n"
   ]
  },
  {
   "cell_type": "code",
   "execution_count": null,
   "metadata": {},
   "outputs": [],
   "source": []
  }
 ],
 "metadata": {
  "kernelspec": {
   "display_name": "Python 3",
   "language": "python",
   "name": "python3"
  },
  "language_info": {
   "codemirror_mode": {
    "name": "ipython",
    "version": 3
   },
   "file_extension": ".py",
   "mimetype": "text/x-python",
   "name": "python",
   "nbconvert_exporter": "python",
   "pygments_lexer": "ipython3",
   "version": "3.6.5"
  }
 },
 "nbformat": 4,
 "nbformat_minor": 2
}
